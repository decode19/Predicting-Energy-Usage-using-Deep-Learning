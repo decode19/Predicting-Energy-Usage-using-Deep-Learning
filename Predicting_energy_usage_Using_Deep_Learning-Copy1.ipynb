{
 "cells": [
  {
   "cell_type": "code",
   "execution_count": 341,
   "id": "8c43c961",
   "metadata": {},
   "outputs": [],
   "source": [
    "import pandas as pd\n",
    "import numpy as np\n",
    "import matplotlib.pyplot as plt\n",
    "import seaborn as sns\n",
    "import datetime\n",
    "import tensorflow as tf\n",
    "from sklearn.model_selection import train_test_split\n",
    "from keras.preprocessing.sequence import TimeseriesGenerator\n",
    "from sklearn.preprocessing import MinMaxScaler, StandardScaler\n",
    "import matplotlib as mpl\n",
    "\n",
    "mpl.rcParams['figure.figsize']=(20,20)\n",
    "mpl.rcParams['axes.grid']=False"
   ]
  },
  {
   "cell_type": "code",
   "execution_count": 342,
   "id": "3d946b7e",
   "metadata": {},
   "outputs": [],
   "source": [
    "df = pd.read_csv('https://archive.ics.uci.edu/ml/machine-learning-databases/00374/energydata_complete.csv')"
   ]
  },
  {
   "cell_type": "markdown",
   "id": "1eab56cf",
   "metadata": {},
   "source": [
    "We are downloading the energy usage dataset from UCI database."
   ]
  },
  {
   "cell_type": "code",
   "execution_count": 343,
   "id": "b022739e",
   "metadata": {},
   "outputs": [
    {
     "data": {
      "text/html": [
       "<div>\n",
       "<style scoped>\n",
       "    .dataframe tbody tr th:only-of-type {\n",
       "        vertical-align: middle;\n",
       "    }\n",
       "\n",
       "    .dataframe tbody tr th {\n",
       "        vertical-align: top;\n",
       "    }\n",
       "\n",
       "    .dataframe thead th {\n",
       "        text-align: right;\n",
       "    }\n",
       "</style>\n",
       "<table border=\"1\" class=\"dataframe\">\n",
       "  <thead>\n",
       "    <tr style=\"text-align: right;\">\n",
       "      <th></th>\n",
       "      <th>date</th>\n",
       "      <th>Appliances</th>\n",
       "      <th>lights</th>\n",
       "      <th>T1</th>\n",
       "      <th>RH_1</th>\n",
       "      <th>T2</th>\n",
       "      <th>RH_2</th>\n",
       "      <th>T3</th>\n",
       "      <th>RH_3</th>\n",
       "      <th>T4</th>\n",
       "      <th>...</th>\n",
       "      <th>T9</th>\n",
       "      <th>RH_9</th>\n",
       "      <th>T_out</th>\n",
       "      <th>Press_mm_hg</th>\n",
       "      <th>RH_out</th>\n",
       "      <th>Windspeed</th>\n",
       "      <th>Visibility</th>\n",
       "      <th>Tdewpoint</th>\n",
       "      <th>rv1</th>\n",
       "      <th>rv2</th>\n",
       "    </tr>\n",
       "  </thead>\n",
       "  <tbody>\n",
       "    <tr>\n",
       "      <th>0</th>\n",
       "      <td>2016-01-11 17:00:00</td>\n",
       "      <td>60</td>\n",
       "      <td>30</td>\n",
       "      <td>19.89</td>\n",
       "      <td>47.596667</td>\n",
       "      <td>19.2</td>\n",
       "      <td>44.790000</td>\n",
       "      <td>19.79</td>\n",
       "      <td>44.730000</td>\n",
       "      <td>19.000000</td>\n",
       "      <td>...</td>\n",
       "      <td>17.033333</td>\n",
       "      <td>45.53</td>\n",
       "      <td>6.600000</td>\n",
       "      <td>733.5</td>\n",
       "      <td>92.0</td>\n",
       "      <td>7.000000</td>\n",
       "      <td>63.000000</td>\n",
       "      <td>5.3</td>\n",
       "      <td>13.275433</td>\n",
       "      <td>13.275433</td>\n",
       "    </tr>\n",
       "    <tr>\n",
       "      <th>1</th>\n",
       "      <td>2016-01-11 17:10:00</td>\n",
       "      <td>60</td>\n",
       "      <td>30</td>\n",
       "      <td>19.89</td>\n",
       "      <td>46.693333</td>\n",
       "      <td>19.2</td>\n",
       "      <td>44.722500</td>\n",
       "      <td>19.79</td>\n",
       "      <td>44.790000</td>\n",
       "      <td>19.000000</td>\n",
       "      <td>...</td>\n",
       "      <td>17.066667</td>\n",
       "      <td>45.56</td>\n",
       "      <td>6.483333</td>\n",
       "      <td>733.6</td>\n",
       "      <td>92.0</td>\n",
       "      <td>6.666667</td>\n",
       "      <td>59.166667</td>\n",
       "      <td>5.2</td>\n",
       "      <td>18.606195</td>\n",
       "      <td>18.606195</td>\n",
       "    </tr>\n",
       "    <tr>\n",
       "      <th>2</th>\n",
       "      <td>2016-01-11 17:20:00</td>\n",
       "      <td>50</td>\n",
       "      <td>30</td>\n",
       "      <td>19.89</td>\n",
       "      <td>46.300000</td>\n",
       "      <td>19.2</td>\n",
       "      <td>44.626667</td>\n",
       "      <td>19.79</td>\n",
       "      <td>44.933333</td>\n",
       "      <td>18.926667</td>\n",
       "      <td>...</td>\n",
       "      <td>17.000000</td>\n",
       "      <td>45.50</td>\n",
       "      <td>6.366667</td>\n",
       "      <td>733.7</td>\n",
       "      <td>92.0</td>\n",
       "      <td>6.333333</td>\n",
       "      <td>55.333333</td>\n",
       "      <td>5.1</td>\n",
       "      <td>28.642668</td>\n",
       "      <td>28.642668</td>\n",
       "    </tr>\n",
       "    <tr>\n",
       "      <th>3</th>\n",
       "      <td>2016-01-11 17:30:00</td>\n",
       "      <td>50</td>\n",
       "      <td>40</td>\n",
       "      <td>19.89</td>\n",
       "      <td>46.066667</td>\n",
       "      <td>19.2</td>\n",
       "      <td>44.590000</td>\n",
       "      <td>19.79</td>\n",
       "      <td>45.000000</td>\n",
       "      <td>18.890000</td>\n",
       "      <td>...</td>\n",
       "      <td>17.000000</td>\n",
       "      <td>45.40</td>\n",
       "      <td>6.250000</td>\n",
       "      <td>733.8</td>\n",
       "      <td>92.0</td>\n",
       "      <td>6.000000</td>\n",
       "      <td>51.500000</td>\n",
       "      <td>5.0</td>\n",
       "      <td>45.410389</td>\n",
       "      <td>45.410389</td>\n",
       "    </tr>\n",
       "    <tr>\n",
       "      <th>4</th>\n",
       "      <td>2016-01-11 17:40:00</td>\n",
       "      <td>60</td>\n",
       "      <td>40</td>\n",
       "      <td>19.89</td>\n",
       "      <td>46.333333</td>\n",
       "      <td>19.2</td>\n",
       "      <td>44.530000</td>\n",
       "      <td>19.79</td>\n",
       "      <td>45.000000</td>\n",
       "      <td>18.890000</td>\n",
       "      <td>...</td>\n",
       "      <td>17.000000</td>\n",
       "      <td>45.40</td>\n",
       "      <td>6.133333</td>\n",
       "      <td>733.9</td>\n",
       "      <td>92.0</td>\n",
       "      <td>5.666667</td>\n",
       "      <td>47.666667</td>\n",
       "      <td>4.9</td>\n",
       "      <td>10.084097</td>\n",
       "      <td>10.084097</td>\n",
       "    </tr>\n",
       "  </tbody>\n",
       "</table>\n",
       "<p>5 rows × 29 columns</p>\n",
       "</div>"
      ],
      "text/plain": [
       "                  date  Appliances  lights     T1       RH_1    T2       RH_2  \\\n",
       "0  2016-01-11 17:00:00          60      30  19.89  47.596667  19.2  44.790000   \n",
       "1  2016-01-11 17:10:00          60      30  19.89  46.693333  19.2  44.722500   \n",
       "2  2016-01-11 17:20:00          50      30  19.89  46.300000  19.2  44.626667   \n",
       "3  2016-01-11 17:30:00          50      40  19.89  46.066667  19.2  44.590000   \n",
       "4  2016-01-11 17:40:00          60      40  19.89  46.333333  19.2  44.530000   \n",
       "\n",
       "      T3       RH_3         T4  ...         T9   RH_9     T_out  Press_mm_hg  \\\n",
       "0  19.79  44.730000  19.000000  ...  17.033333  45.53  6.600000        733.5   \n",
       "1  19.79  44.790000  19.000000  ...  17.066667  45.56  6.483333        733.6   \n",
       "2  19.79  44.933333  18.926667  ...  17.000000  45.50  6.366667        733.7   \n",
       "3  19.79  45.000000  18.890000  ...  17.000000  45.40  6.250000        733.8   \n",
       "4  19.79  45.000000  18.890000  ...  17.000000  45.40  6.133333        733.9   \n",
       "\n",
       "   RH_out  Windspeed  Visibility  Tdewpoint        rv1        rv2  \n",
       "0    92.0   7.000000   63.000000        5.3  13.275433  13.275433  \n",
       "1    92.0   6.666667   59.166667        5.2  18.606195  18.606195  \n",
       "2    92.0   6.333333   55.333333        5.1  28.642668  28.642668  \n",
       "3    92.0   6.000000   51.500000        5.0  45.410389  45.410389  \n",
       "4    92.0   5.666667   47.666667        4.9  10.084097  10.084097  \n",
       "\n",
       "[5 rows x 29 columns]"
      ]
     },
     "execution_count": 343,
     "metadata": {},
     "output_type": "execute_result"
    }
   ],
   "source": [
    "df.head()"
   ]
  },
  {
   "cell_type": "markdown",
   "id": "6b182776",
   "metadata": {},
   "source": [
    "Here we are predicting energy usage by Appliances in watts. The data provided has been collected every 10 minutes. We could use all the varaiables to predict or we could select a few. In this study, just to simplify, we will choose 4-5 features to predict. The time series data is sorted as per order. RH is humidity and T is temperature. Data is collected for each room. "
   ]
  },
  {
   "cell_type": "code",
   "execution_count": 344,
   "id": "82cc59a2",
   "metadata": {},
   "outputs": [
    {
     "name": "stdout",
     "output_type": "stream",
     "text": [
      "<class 'pandas.core.frame.DataFrame'>\n",
      "RangeIndex: 19735 entries, 0 to 19734\n",
      "Data columns (total 29 columns):\n",
      " #   Column       Non-Null Count  Dtype  \n",
      "---  ------       --------------  -----  \n",
      " 0   date         19735 non-null  object \n",
      " 1   Appliances   19735 non-null  int64  \n",
      " 2   lights       19735 non-null  int64  \n",
      " 3   T1           19735 non-null  float64\n",
      " 4   RH_1         19735 non-null  float64\n",
      " 5   T2           19735 non-null  float64\n",
      " 6   RH_2         19735 non-null  float64\n",
      " 7   T3           19735 non-null  float64\n",
      " 8   RH_3         19735 non-null  float64\n",
      " 9   T4           19735 non-null  float64\n",
      " 10  RH_4         19735 non-null  float64\n",
      " 11  T5           19735 non-null  float64\n",
      " 12  RH_5         19735 non-null  float64\n",
      " 13  T6           19735 non-null  float64\n",
      " 14  RH_6         19735 non-null  float64\n",
      " 15  T7           19735 non-null  float64\n",
      " 16  RH_7         19735 non-null  float64\n",
      " 17  T8           19735 non-null  float64\n",
      " 18  RH_8         19735 non-null  float64\n",
      " 19  T9           19735 non-null  float64\n",
      " 20  RH_9         19735 non-null  float64\n",
      " 21  T_out        19735 non-null  float64\n",
      " 22  Press_mm_hg  19735 non-null  float64\n",
      " 23  RH_out       19735 non-null  float64\n",
      " 24  Windspeed    19735 non-null  float64\n",
      " 25  Visibility   19735 non-null  float64\n",
      " 26  Tdewpoint    19735 non-null  float64\n",
      " 27  rv1          19735 non-null  float64\n",
      " 28  rv2          19735 non-null  float64\n",
      "dtypes: float64(26), int64(2), object(1)\n",
      "memory usage: 4.4+ MB\n"
     ]
    }
   ],
   "source": [
    "df.info()"
   ]
  },
  {
   "cell_type": "markdown",
   "id": "6b36fca6",
   "metadata": {},
   "source": [
    "The details given below are as provided by UCI about the columns."
   ]
  },
  {
   "cell_type": "code",
   "execution_count": null,
   "id": "a063f5a6",
   "metadata": {},
   "outputs": [],
   "source": [
    "date time year-month-day hour:minute:second \n",
    "Appliances, energy use in Wh\n",
    "lights, energy use of light fixtures in the house in Wh\n",
    "T1, Temperature in kitchen area, in Celsius\n",
    "RH_1, Humidity in kitchen area, in %\n",
    "T2, Temperature in living room area, in Celsius\n",
    "RH_2, Humidity in living room area, in %\n",
    "T3, Temperature in laundry room area\n",
    "RH_3, Humidity in laundry room area, in %\n",
    "T4, Temperature in office room, in Celsius\n",
    "RH_4, Humidity in office room, in %\n",
    "T5, Temperature in bathroom, in Celsius\n",
    "RH_5, Humidity in bathroom, in %\n",
    "T6, Temperature outside the building (north side), in Celsius\n",
    "RH_6, Humidity outside the building (north side), in %\n",
    "T7, Temperature in ironing room , in Celsius\n",
    "RH_7, Humidity in ironing room, in %\n",
    "T8, Temperature in teenager room 2, in Celsius\n",
    "RH_8, Humidity in teenager room 2, in %\n",
    "T9, Temperature in parents room, in Celsius\n",
    "RH_9, Humidity in parents room, in %\n",
    "To, Temperature outside (from Chievres weather station), in Celsius\n",
    "Pressure (from Chievres weather station), in mm Hg\n",
    "RH_out, Humidity outside (from Chievres weather station), in %\n",
    "Wind speed (from Chievres weather station), in m/s\n",
    "Visibility (from Chievres weather station), in km\n",
    "Tdewpoint (from Chievres weather station), Â°C\n",
    "rv1, Random variable 1, nondimensional\n",
    "rv2, Random variable 2, nondimensional\n"
   ]
  },
  {
   "cell_type": "code",
   "execution_count": 346,
   "id": "19d70364",
   "metadata": {},
   "outputs": [
    {
     "data": {
      "text/plain": [
       "date           0\n",
       "Appliances     0\n",
       "lights         0\n",
       "T1             0\n",
       "RH_1           0\n",
       "T2             0\n",
       "RH_2           0\n",
       "T3             0\n",
       "RH_3           0\n",
       "T4             0\n",
       "RH_4           0\n",
       "T5             0\n",
       "RH_5           0\n",
       "T6             0\n",
       "RH_6           0\n",
       "T7             0\n",
       "RH_7           0\n",
       "T8             0\n",
       "RH_8           0\n",
       "T9             0\n",
       "RH_9           0\n",
       "T_out          0\n",
       "Press_mm_hg    0\n",
       "RH_out         0\n",
       "Windspeed      0\n",
       "Visibility     0\n",
       "Tdewpoint      0\n",
       "rv1            0\n",
       "rv2            0\n",
       "dtype: int64"
      ]
     },
     "execution_count": 346,
     "metadata": {},
     "output_type": "execute_result"
    }
   ],
   "source": [
    "df.isnull().sum()"
   ]
  },
  {
   "cell_type": "markdown",
   "id": "9101f7cb",
   "metadata": {},
   "source": [
    "The data has no missing values. However it may have outliers. Usually we can do EDA and wrangling to check for outliers and duplicates. However as of now we will proceed with preprocessing and modeling."
   ]
  },
  {
   "cell_type": "code",
   "execution_count": 347,
   "id": "a7ffb472",
   "metadata": {},
   "outputs": [],
   "source": [
    "# Converting date in date time format\n",
    "df['date'] = pd.to_datetime(df.date)"
   ]
  },
  {
   "cell_type": "code",
   "execution_count": 348,
   "id": "fcccb493",
   "metadata": {},
   "outputs": [
    {
     "name": "stdout",
     "output_type": "stream",
     "text": [
      "<class 'pandas.core.frame.DataFrame'>\n",
      "RangeIndex: 19735 entries, 0 to 19734\n",
      "Data columns (total 29 columns):\n",
      " #   Column       Non-Null Count  Dtype         \n",
      "---  ------       --------------  -----         \n",
      " 0   date         19735 non-null  datetime64[ns]\n",
      " 1   Appliances   19735 non-null  int64         \n",
      " 2   lights       19735 non-null  int64         \n",
      " 3   T1           19735 non-null  float64       \n",
      " 4   RH_1         19735 non-null  float64       \n",
      " 5   T2           19735 non-null  float64       \n",
      " 6   RH_2         19735 non-null  float64       \n",
      " 7   T3           19735 non-null  float64       \n",
      " 8   RH_3         19735 non-null  float64       \n",
      " 9   T4           19735 non-null  float64       \n",
      " 10  RH_4         19735 non-null  float64       \n",
      " 11  T5           19735 non-null  float64       \n",
      " 12  RH_5         19735 non-null  float64       \n",
      " 13  T6           19735 non-null  float64       \n",
      " 14  RH_6         19735 non-null  float64       \n",
      " 15  T7           19735 non-null  float64       \n",
      " 16  RH_7         19735 non-null  float64       \n",
      " 17  T8           19735 non-null  float64       \n",
      " 18  RH_8         19735 non-null  float64       \n",
      " 19  T9           19735 non-null  float64       \n",
      " 20  RH_9         19735 non-null  float64       \n",
      " 21  T_out        19735 non-null  float64       \n",
      " 22  Press_mm_hg  19735 non-null  float64       \n",
      " 23  RH_out       19735 non-null  float64       \n",
      " 24  Windspeed    19735 non-null  float64       \n",
      " 25  Visibility   19735 non-null  float64       \n",
      " 26  Tdewpoint    19735 non-null  float64       \n",
      " 27  rv1          19735 non-null  float64       \n",
      " 28  rv2          19735 non-null  float64       \n",
      "dtypes: datetime64[ns](1), float64(26), int64(2)\n",
      "memory usage: 4.4 MB\n"
     ]
    }
   ],
   "source": [
    "df.info()"
   ]
  },
  {
   "cell_type": "code",
   "execution_count": 349,
   "id": "b3e1ebfd",
   "metadata": {},
   "outputs": [
    {
     "data": {
      "text/html": [
       "<div>\n",
       "<style scoped>\n",
       "    .dataframe tbody tr th:only-of-type {\n",
       "        vertical-align: middle;\n",
       "    }\n",
       "\n",
       "    .dataframe tbody tr th {\n",
       "        vertical-align: top;\n",
       "    }\n",
       "\n",
       "    .dataframe thead th {\n",
       "        text-align: right;\n",
       "    }\n",
       "</style>\n",
       "<table border=\"1\" class=\"dataframe\">\n",
       "  <thead>\n",
       "    <tr style=\"text-align: right;\">\n",
       "      <th></th>\n",
       "      <th>Appliances</th>\n",
       "      <th>lights</th>\n",
       "      <th>T1</th>\n",
       "      <th>RH_1</th>\n",
       "      <th>T2</th>\n",
       "      <th>RH_2</th>\n",
       "      <th>T3</th>\n",
       "      <th>RH_3</th>\n",
       "      <th>T4</th>\n",
       "      <th>RH_4</th>\n",
       "      <th>...</th>\n",
       "      <th>T9</th>\n",
       "      <th>RH_9</th>\n",
       "      <th>T_out</th>\n",
       "      <th>Press_mm_hg</th>\n",
       "      <th>RH_out</th>\n",
       "      <th>Windspeed</th>\n",
       "      <th>Visibility</th>\n",
       "      <th>Tdewpoint</th>\n",
       "      <th>rv1</th>\n",
       "      <th>rv2</th>\n",
       "    </tr>\n",
       "  </thead>\n",
       "  <tbody>\n",
       "    <tr>\n",
       "      <th>count</th>\n",
       "      <td>19735.000000</td>\n",
       "      <td>19735.000000</td>\n",
       "      <td>19735.000000</td>\n",
       "      <td>19735.000000</td>\n",
       "      <td>19735.000000</td>\n",
       "      <td>19735.000000</td>\n",
       "      <td>19735.000000</td>\n",
       "      <td>19735.000000</td>\n",
       "      <td>19735.000000</td>\n",
       "      <td>19735.000000</td>\n",
       "      <td>...</td>\n",
       "      <td>19735.000000</td>\n",
       "      <td>19735.000000</td>\n",
       "      <td>19735.000000</td>\n",
       "      <td>19735.000000</td>\n",
       "      <td>19735.000000</td>\n",
       "      <td>19735.000000</td>\n",
       "      <td>19735.000000</td>\n",
       "      <td>19735.000000</td>\n",
       "      <td>19735.000000</td>\n",
       "      <td>19735.000000</td>\n",
       "    </tr>\n",
       "    <tr>\n",
       "      <th>mean</th>\n",
       "      <td>97.694958</td>\n",
       "      <td>3.801875</td>\n",
       "      <td>21.686571</td>\n",
       "      <td>40.259739</td>\n",
       "      <td>20.341219</td>\n",
       "      <td>40.420420</td>\n",
       "      <td>22.267611</td>\n",
       "      <td>39.242500</td>\n",
       "      <td>20.855335</td>\n",
       "      <td>39.026904</td>\n",
       "      <td>...</td>\n",
       "      <td>19.485828</td>\n",
       "      <td>41.552401</td>\n",
       "      <td>7.411665</td>\n",
       "      <td>755.522602</td>\n",
       "      <td>79.750418</td>\n",
       "      <td>4.039752</td>\n",
       "      <td>38.330834</td>\n",
       "      <td>3.760707</td>\n",
       "      <td>24.988033</td>\n",
       "      <td>24.988033</td>\n",
       "    </tr>\n",
       "    <tr>\n",
       "      <th>std</th>\n",
       "      <td>102.524891</td>\n",
       "      <td>7.935988</td>\n",
       "      <td>1.606066</td>\n",
       "      <td>3.979299</td>\n",
       "      <td>2.192974</td>\n",
       "      <td>4.069813</td>\n",
       "      <td>2.006111</td>\n",
       "      <td>3.254576</td>\n",
       "      <td>2.042884</td>\n",
       "      <td>4.341321</td>\n",
       "      <td>...</td>\n",
       "      <td>2.014712</td>\n",
       "      <td>4.151497</td>\n",
       "      <td>5.317409</td>\n",
       "      <td>7.399441</td>\n",
       "      <td>14.901088</td>\n",
       "      <td>2.451221</td>\n",
       "      <td>11.794719</td>\n",
       "      <td>4.194648</td>\n",
       "      <td>14.496634</td>\n",
       "      <td>14.496634</td>\n",
       "    </tr>\n",
       "    <tr>\n",
       "      <th>min</th>\n",
       "      <td>10.000000</td>\n",
       "      <td>0.000000</td>\n",
       "      <td>16.790000</td>\n",
       "      <td>27.023333</td>\n",
       "      <td>16.100000</td>\n",
       "      <td>20.463333</td>\n",
       "      <td>17.200000</td>\n",
       "      <td>28.766667</td>\n",
       "      <td>15.100000</td>\n",
       "      <td>27.660000</td>\n",
       "      <td>...</td>\n",
       "      <td>14.890000</td>\n",
       "      <td>29.166667</td>\n",
       "      <td>-5.000000</td>\n",
       "      <td>729.300000</td>\n",
       "      <td>24.000000</td>\n",
       "      <td>0.000000</td>\n",
       "      <td>1.000000</td>\n",
       "      <td>-6.600000</td>\n",
       "      <td>0.005322</td>\n",
       "      <td>0.005322</td>\n",
       "    </tr>\n",
       "    <tr>\n",
       "      <th>25%</th>\n",
       "      <td>50.000000</td>\n",
       "      <td>0.000000</td>\n",
       "      <td>20.760000</td>\n",
       "      <td>37.333333</td>\n",
       "      <td>18.790000</td>\n",
       "      <td>37.900000</td>\n",
       "      <td>20.790000</td>\n",
       "      <td>36.900000</td>\n",
       "      <td>19.530000</td>\n",
       "      <td>35.530000</td>\n",
       "      <td>...</td>\n",
       "      <td>18.000000</td>\n",
       "      <td>38.500000</td>\n",
       "      <td>3.666667</td>\n",
       "      <td>750.933333</td>\n",
       "      <td>70.333333</td>\n",
       "      <td>2.000000</td>\n",
       "      <td>29.000000</td>\n",
       "      <td>0.900000</td>\n",
       "      <td>12.497889</td>\n",
       "      <td>12.497889</td>\n",
       "    </tr>\n",
       "    <tr>\n",
       "      <th>50%</th>\n",
       "      <td>60.000000</td>\n",
       "      <td>0.000000</td>\n",
       "      <td>21.600000</td>\n",
       "      <td>39.656667</td>\n",
       "      <td>20.000000</td>\n",
       "      <td>40.500000</td>\n",
       "      <td>22.100000</td>\n",
       "      <td>38.530000</td>\n",
       "      <td>20.666667</td>\n",
       "      <td>38.400000</td>\n",
       "      <td>...</td>\n",
       "      <td>19.390000</td>\n",
       "      <td>40.900000</td>\n",
       "      <td>6.916667</td>\n",
       "      <td>756.100000</td>\n",
       "      <td>83.666667</td>\n",
       "      <td>3.666667</td>\n",
       "      <td>40.000000</td>\n",
       "      <td>3.433333</td>\n",
       "      <td>24.897653</td>\n",
       "      <td>24.897653</td>\n",
       "    </tr>\n",
       "    <tr>\n",
       "      <th>75%</th>\n",
       "      <td>100.000000</td>\n",
       "      <td>0.000000</td>\n",
       "      <td>22.600000</td>\n",
       "      <td>43.066667</td>\n",
       "      <td>21.500000</td>\n",
       "      <td>43.260000</td>\n",
       "      <td>23.290000</td>\n",
       "      <td>41.760000</td>\n",
       "      <td>22.100000</td>\n",
       "      <td>42.156667</td>\n",
       "      <td>...</td>\n",
       "      <td>20.600000</td>\n",
       "      <td>44.338095</td>\n",
       "      <td>10.408333</td>\n",
       "      <td>760.933333</td>\n",
       "      <td>91.666667</td>\n",
       "      <td>5.500000</td>\n",
       "      <td>40.000000</td>\n",
       "      <td>6.566667</td>\n",
       "      <td>37.583769</td>\n",
       "      <td>37.583769</td>\n",
       "    </tr>\n",
       "    <tr>\n",
       "      <th>max</th>\n",
       "      <td>1080.000000</td>\n",
       "      <td>70.000000</td>\n",
       "      <td>26.260000</td>\n",
       "      <td>63.360000</td>\n",
       "      <td>29.856667</td>\n",
       "      <td>56.026667</td>\n",
       "      <td>29.236000</td>\n",
       "      <td>50.163333</td>\n",
       "      <td>26.200000</td>\n",
       "      <td>51.090000</td>\n",
       "      <td>...</td>\n",
       "      <td>24.500000</td>\n",
       "      <td>53.326667</td>\n",
       "      <td>26.100000</td>\n",
       "      <td>772.300000</td>\n",
       "      <td>100.000000</td>\n",
       "      <td>14.000000</td>\n",
       "      <td>66.000000</td>\n",
       "      <td>15.500000</td>\n",
       "      <td>49.996530</td>\n",
       "      <td>49.996530</td>\n",
       "    </tr>\n",
       "  </tbody>\n",
       "</table>\n",
       "<p>8 rows × 28 columns</p>\n",
       "</div>"
      ],
      "text/plain": [
       "         Appliances        lights            T1          RH_1            T2  \\\n",
       "count  19735.000000  19735.000000  19735.000000  19735.000000  19735.000000   \n",
       "mean      97.694958      3.801875     21.686571     40.259739     20.341219   \n",
       "std      102.524891      7.935988      1.606066      3.979299      2.192974   \n",
       "min       10.000000      0.000000     16.790000     27.023333     16.100000   \n",
       "25%       50.000000      0.000000     20.760000     37.333333     18.790000   \n",
       "50%       60.000000      0.000000     21.600000     39.656667     20.000000   \n",
       "75%      100.000000      0.000000     22.600000     43.066667     21.500000   \n",
       "max     1080.000000     70.000000     26.260000     63.360000     29.856667   \n",
       "\n",
       "               RH_2            T3          RH_3            T4          RH_4  \\\n",
       "count  19735.000000  19735.000000  19735.000000  19735.000000  19735.000000   \n",
       "mean      40.420420     22.267611     39.242500     20.855335     39.026904   \n",
       "std        4.069813      2.006111      3.254576      2.042884      4.341321   \n",
       "min       20.463333     17.200000     28.766667     15.100000     27.660000   \n",
       "25%       37.900000     20.790000     36.900000     19.530000     35.530000   \n",
       "50%       40.500000     22.100000     38.530000     20.666667     38.400000   \n",
       "75%       43.260000     23.290000     41.760000     22.100000     42.156667   \n",
       "max       56.026667     29.236000     50.163333     26.200000     51.090000   \n",
       "\n",
       "       ...            T9          RH_9         T_out   Press_mm_hg  \\\n",
       "count  ...  19735.000000  19735.000000  19735.000000  19735.000000   \n",
       "mean   ...     19.485828     41.552401      7.411665    755.522602   \n",
       "std    ...      2.014712      4.151497      5.317409      7.399441   \n",
       "min    ...     14.890000     29.166667     -5.000000    729.300000   \n",
       "25%    ...     18.000000     38.500000      3.666667    750.933333   \n",
       "50%    ...     19.390000     40.900000      6.916667    756.100000   \n",
       "75%    ...     20.600000     44.338095     10.408333    760.933333   \n",
       "max    ...     24.500000     53.326667     26.100000    772.300000   \n",
       "\n",
       "             RH_out     Windspeed    Visibility     Tdewpoint           rv1  \\\n",
       "count  19735.000000  19735.000000  19735.000000  19735.000000  19735.000000   \n",
       "mean      79.750418      4.039752     38.330834      3.760707     24.988033   \n",
       "std       14.901088      2.451221     11.794719      4.194648     14.496634   \n",
       "min       24.000000      0.000000      1.000000     -6.600000      0.005322   \n",
       "25%       70.333333      2.000000     29.000000      0.900000     12.497889   \n",
       "50%       83.666667      3.666667     40.000000      3.433333     24.897653   \n",
       "75%       91.666667      5.500000     40.000000      6.566667     37.583769   \n",
       "max      100.000000     14.000000     66.000000     15.500000     49.996530   \n",
       "\n",
       "                rv2  \n",
       "count  19735.000000  \n",
       "mean      24.988033  \n",
       "std       14.496634  \n",
       "min        0.005322  \n",
       "25%       12.497889  \n",
       "50%       24.897653  \n",
       "75%       37.583769  \n",
       "max       49.996530  \n",
       "\n",
       "[8 rows x 28 columns]"
      ]
     },
     "execution_count": 349,
     "metadata": {},
     "output_type": "execute_result"
    }
   ],
   "source": [
    "# lets check our data\n",
    "df.describe()"
   ]
  },
  {
   "cell_type": "markdown",
   "id": "a42bb864",
   "metadata": {},
   "source": [
    "There is a some range difference. To fix this we have to scale the data. We could either use Standard Scaler or Min Max Scaler. We would go with Min Max scaler here as it will not disturb the outliers, neither will it change the distribution of the data. "
   ]
  },
  {
   "cell_type": "markdown",
   "id": "f492d040",
   "metadata": {},
   "source": [
    "We have two options which applying scaling, we could either apply it on the whole dataset, which we are doing here or to make it more precise, we could first apply it on the train data and then use those parameters to scale the test data. "
   ]
  },
  {
   "cell_type": "code",
   "execution_count": 350,
   "id": "e9c93458",
   "metadata": {},
   "outputs": [
    {
     "name": "stdout",
     "output_type": "stream",
     "text": [
      "<class 'pandas.core.frame.DataFrame'>\n",
      "RangeIndex: 19735 entries, 0 to 19734\n",
      "Data columns (total 5 columns):\n",
      " #   Column      Non-Null Count  Dtype  \n",
      "---  ------      --------------  -----  \n",
      " 0   Appliances  19735 non-null  int64  \n",
      " 1   T1          19735 non-null  float64\n",
      " 2   RH_1        19735 non-null  float64\n",
      " 3   T2          19735 non-null  float64\n",
      " 4   RH_2        19735 non-null  float64\n",
      "dtypes: float64(4), int64(1)\n",
      "memory usage: 771.0 KB\n"
     ]
    }
   ],
   "source": [
    "#create a new dataset which includes your input/output features, exclude date, lagged Total accidents and Wind_chill with 50% missing values \n",
    "df_input=df[['Appliances','T1','RH_1','T2','RH_2']]\n",
    "\n",
    "df_input.info()\n"
   ]
  },
  {
   "cell_type": "code",
   "execution_count": 351,
   "id": "7d1d6c83",
   "metadata": {},
   "outputs": [],
   "source": [
    "scaler=MinMaxScaler()\n",
    "data_scaled=scaler.fit_transform(df_input)"
   ]
  },
  {
   "cell_type": "code",
   "execution_count": 352,
   "id": "979e3bf9",
   "metadata": {},
   "outputs": [
    {
     "data": {
      "text/plain": [
       "array([[0.04672897, 0.32734952, 0.56618659, 0.22534529, 0.68403787],\n",
       "       [0.04672897, 0.32734952, 0.54132648, 0.22534529, 0.68213984],\n",
       "       [0.03738318, 0.32734952, 0.53050179, 0.22534529, 0.67944512],\n",
       "       ...,\n",
       "       [0.24299065, 0.91974657, 0.53866618, 0.69265118, 0.62719762],\n",
       "       [0.38317757, 0.91974657, 0.54949087, 0.67705355, 0.63471741],\n",
       "       [0.39252336, 0.91974657, 0.53875791, 0.66617051, 0.63290173]])"
      ]
     },
     "execution_count": 352,
     "metadata": {},
     "output_type": "execute_result"
    }
   ],
   "source": [
    "#Lets check the output\n",
    "data_scaled"
   ]
  },
  {
   "cell_type": "code",
   "execution_count": 353,
   "id": "55c552cc",
   "metadata": {},
   "outputs": [
    {
     "data": {
      "text/plain": [
       "numpy.ndarray"
      ]
     },
     "execution_count": 353,
     "metadata": {},
     "output_type": "execute_result"
    }
   ],
   "source": [
    "type(data_scaled)"
   ]
  },
  {
   "cell_type": "code",
   "execution_count": 354,
   "id": "209c170b",
   "metadata": {},
   "outputs": [],
   "source": [
    "# We are defining the input and target varaibles. Features will be the input.\n",
    "features=data_scaled# this will be all including Appliances\n",
    "target= data_scaled[:,0] # this will be only Appliances"
   ]
  },
  {
   "cell_type": "code",
   "execution_count": 365,
   "id": "15131db5",
   "metadata": {},
   "outputs": [
    {
     "data": {
      "text/plain": [
       "(array([[[0.04672897, 0.32734952, 0.56618659, 0.22534529, 0.68403787],\n",
       "         [0.04672897, 0.32734952, 0.54132648, 0.22534529, 0.68213984]]]),\n",
       " array([0.03738318]))"
      ]
     },
     "execution_count": 365,
     "metadata": {},
     "output_type": "execute_result"
    }
   ],
   "source": [
    "# just testing, where we are taking 20 minutes of data so length is 2 and predicting for the 30th minute.\n",
    "TimeseriesGenerator(features,target,length=2,sampling_rate=1,batch_size=1)[0]"
   ]
  },
  {
   "cell_type": "markdown",
   "id": "79f9ef9f",
   "metadata": {},
   "source": [
    "We are splitting the data with test as 20% and shuffle will be False so that we preserve the order."
   ]
  },
  {
   "cell_type": "code",
   "execution_count": 356,
   "id": "d8d390b5",
   "metadata": {},
   "outputs": [],
   "source": [
    "x_train, x_test, y_train, y_test=train_test_split(features, target, test_size=0.20, random_state=123, shuffle=False)"
   ]
  },
  {
   "cell_type": "code",
   "execution_count": 357,
   "id": "8acafd85",
   "metadata": {},
   "outputs": [
    {
     "data": {
      "text/plain": [
       "(15788, 5)"
      ]
     },
     "execution_count": 357,
     "metadata": {},
     "output_type": "execute_result"
    }
   ],
   "source": [
    "x_train.shape"
   ]
  },
  {
   "cell_type": "code",
   "execution_count": 358,
   "id": "4e2ecc82",
   "metadata": {},
   "outputs": [
    {
     "data": {
      "text/plain": [
       "(3947, 5)"
      ]
     },
     "execution_count": 358,
     "metadata": {},
     "output_type": "execute_result"
    }
   ],
   "source": [
    "x_test.shape"
   ]
  },
  {
   "cell_type": "markdown",
   "id": "5e29f653",
   "metadata": {},
   "source": [
    "Now we will define the actual Timeseries generator"
   ]
  },
  {
   "cell_type": "code",
   "execution_count": 359,
   "id": "04e3cd03",
   "metadata": {},
   "outputs": [],
   "source": [
    "win_length=720 # 1 hr is 6 data points, so daily 144 datapts, we are using 5 days predict for 6th day \n",
    "batch_size=32 # training has to be faster so in each instance we are passing 32 batch size of data\n",
    "num_features=5 # number of input features\n",
    "# we are generating a train generator and a test generator.\n",
    "train_generator = TimeseriesGenerator(x_train,y_train, length=win_length, sampling_rate=1, batch_size=batch_size)\n",
    "test_generator = TimeseriesGenerator(x_test,y_test, length=win_length, sampling_rate=1, batch_size=batch_size)"
   ]
  },
  {
   "cell_type": "markdown",
   "id": "e1185758",
   "metadata": {},
   "source": [
    "We are defining train generator and test generator separately with the same features"
   ]
  },
  {
   "cell_type": "code",
   "execution_count": 360,
   "id": "49512cd6",
   "metadata": {},
   "outputs": [
    {
     "data": {
      "text/plain": [
       "(array([[[0.04672897, 0.32734952, 0.56618659, 0.22534529, 0.68403787],\n",
       "         [0.04672897, 0.32734952, 0.54132648, 0.22534529, 0.68213984],\n",
       "         [0.03738318, 0.32734952, 0.53050179, 0.22534529, 0.67944512],\n",
       "         ...,\n",
       "         [0.06542056, 0.50791975, 0.31584258, 0.33438333, 0.49123629],\n",
       "         [0.05607477, 0.49736008, 0.31309054, 0.32711413, 0.48720592],\n",
       "         [0.06542056, 0.49736008, 0.31107238, 0.32711413, 0.48551879]],\n",
       " \n",
       "        [[0.04672897, 0.32734952, 0.54132648, 0.22534529, 0.68213984],\n",
       "         [0.03738318, 0.32734952, 0.53050179, 0.22534529, 0.67944512],\n",
       "         [0.03738318, 0.32734952, 0.52408036, 0.22534529, 0.6784141 ],\n",
       "         ...,\n",
       "         [0.05607477, 0.49736008, 0.31309054, 0.32711413, 0.48720592],\n",
       "         [0.06542056, 0.49736008, 0.31107238, 0.32711413, 0.48551879],\n",
       "         [0.06542056, 0.49736008, 0.30923768, 0.32469106, 0.48467523]],\n",
       " \n",
       "        [[0.03738318, 0.32734952, 0.53050179, 0.22534529, 0.67944512],\n",
       "         [0.03738318, 0.32734952, 0.52408036, 0.22534529, 0.6784141 ],\n",
       "         [0.04672897, 0.32734952, 0.53141914, 0.22534529, 0.67672697],\n",
       "         ...,\n",
       "         [0.06542056, 0.49736008, 0.31107238, 0.32711413, 0.48551879],\n",
       "         [0.06542056, 0.49736008, 0.30923768, 0.32469106, 0.48467523],\n",
       "         [0.13084112, 0.48961633, 0.3055683 , 0.31984492, 0.48467523]],\n",
       " \n",
       "        ...,\n",
       " \n",
       "        [[0.08411215, 0.49736008, 0.50389872, 0.33438333, 0.68806824],\n",
       "         [0.09345794, 0.49736008, 0.49821117, 0.34092561, 0.67963258],\n",
       "         [0.36448598, 0.50087997, 0.49380791, 0.34092561, 0.67194676],\n",
       "         ...,\n",
       "         [0.08411215, 0.68637804, 0.32134667, 0.44342137, 0.49796138],\n",
       "         [0.09345794, 0.68637804, 0.31749381, 0.43857524, 0.49395445],\n",
       "         [0.09345794, 0.68004224, 0.31400789, 0.43615217, 0.49217359]],\n",
       " \n",
       "        [[0.09345794, 0.49736008, 0.49821117, 0.34092561, 0.67963258],\n",
       "         [0.36448598, 0.50087997, 0.49380791, 0.34092561, 0.67194676],\n",
       "         [0.36448598, 0.50791975, 0.48830383, 0.34819481, 0.66810385],\n",
       "         ...,\n",
       "         [0.09345794, 0.68637804, 0.31749381, 0.43857524, 0.49395445],\n",
       "         [0.09345794, 0.68004224, 0.31400789, 0.43615217, 0.49217359],\n",
       "         [0.1682243 , 0.68321014, 0.31208146, 0.43615217, 0.490299  ]],\n",
       " \n",
       "        [[0.36448598, 0.50087997, 0.49380791, 0.34092561, 0.67194676],\n",
       "         [0.36448598, 0.50791975, 0.48830383, 0.34819481, 0.66810385],\n",
       "         [0.35514019, 0.50791975, 0.48261627, 0.35352556, 0.66079295],\n",
       "         ...,\n",
       "         [0.09345794, 0.68004224, 0.31400789, 0.43615217, 0.49217359],\n",
       "         [0.1682243 , 0.68321014, 0.31208146, 0.43615217, 0.490299  ],\n",
       "         [0.41121495, 0.67687434, 0.3100633 , 0.43615217, 0.48926797]]]),\n",
       " array([0.06542056, 0.13084112, 0.34579439, 0.26168224, 0.24299065,\n",
       "        0.38317757, 0.25233645, 0.27102804, 0.31775701, 0.24299065,\n",
       "        0.51401869, 1.        , 0.69158879, 0.35514019, 0.31775701,\n",
       "        0.30841121, 0.26168224, 0.20560748, 0.10280374, 0.09345794,\n",
       "        0.08411215, 0.09345794, 0.11214953, 0.12149533, 0.09345794,\n",
       "        0.08411215, 0.08411215, 0.09345794, 0.09345794, 0.1682243 ,\n",
       "        0.41121495, 0.18691589]))"
      ]
     },
     "execution_count": 360,
     "metadata": {},
     "output_type": "execute_result"
    }
   ],
   "source": [
    "# testing \n",
    "train_generator[0]"
   ]
  },
  {
   "cell_type": "markdown",
   "id": "edec47ad",
   "metadata": {},
   "source": [
    "Now this have 32 batches each of 720 data"
   ]
  },
  {
   "cell_type": "markdown",
   "id": "0a43a2b1",
   "metadata": {},
   "source": [
    "Input shape here is 720x5, return_sequences=True,bcoz we need hidden state for each of the input sequence, but since it is time series, we want hidden state for each input.activation is Leaky Relu, we use dropout to avoid overfitting, final dense layer is 1 which is the ouput  "
   ]
  },
  {
   "cell_type": "code",
   "execution_count": 361,
   "id": "5a6f364a",
   "metadata": {},
   "outputs": [],
   "source": [
    "# Defining the model architecture for LSTM model\n",
    "model = tf.keras.Sequential()\n",
    "model.add(tf.keras.layers.LSTM(128, input_shape=(win_length,num_features), return_sequences=True))\n",
    "model.add(tf.keras.layers.LeakyReLU(alpha=0.5))\n",
    "model.add(tf.keras.layers.LSTM(128, return_sequences=True))\n",
    "model.add(tf.keras.layers.LeakyReLU(alpha=0.5))\n",
    "model.add(tf.keras.layers.Dropout(0.3))\n",
    "model.add(tf.keras.layers.LSTM(64, return_sequences=False))\n",
    "model.add(tf.keras.layers.Dropout(0.3))\n",
    "model.add(tf.keras.layers.Dense(1))"
   ]
  },
  {
   "cell_type": "code",
   "execution_count": 362,
   "id": "b778991e",
   "metadata": {},
   "outputs": [
    {
     "name": "stdout",
     "output_type": "stream",
     "text": [
      "Model: \"sequential_8\"\n",
      "_________________________________________________________________\n",
      " Layer (type)                Output Shape              Param #   \n",
      "=================================================================\n",
      " lstm_24 (LSTM)              (None, 720, 128)          68608     \n",
      "                                                                 \n",
      " leaky_re_lu_16 (LeakyReLU)  (None, 720, 128)          0         \n",
      "                                                                 \n",
      " lstm_25 (LSTM)              (None, 720, 128)          131584    \n",
      "                                                                 \n",
      " leaky_re_lu_17 (LeakyReLU)  (None, 720, 128)          0         \n",
      "                                                                 \n",
      " dropout_16 (Dropout)        (None, 720, 128)          0         \n",
      "                                                                 \n",
      " lstm_26 (LSTM)              (None, 64)                49408     \n",
      "                                                                 \n",
      " dropout_17 (Dropout)        (None, 64)                0         \n",
      "                                                                 \n",
      " dense_8 (Dense)             (None, 1)                 65        \n",
      "                                                                 \n",
      "=================================================================\n",
      "Total params: 249,665\n",
      "Trainable params: 249,665\n",
      "Non-trainable params: 0\n",
      "_________________________________________________________________\n"
     ]
    }
   ],
   "source": [
    "model.summary()"
   ]
  },
  {
   "cell_type": "markdown",
   "id": "63584167",
   "metadata": {},
   "source": [
    "This is the model architecture. It has around 250k params."
   ]
  },
  {
   "cell_type": "markdown",
   "id": "80e149d1",
   "metadata": {},
   "source": [
    " Now we definethe model with a Early stopping,, we are not running for ever. So even though the epochs is 50, if there is no improvement in the validation loss function, then it can stop. Compiling the model with mean squared error, and metrics we are tracking is MeanAbsolute Error. Shuffle is again False. "
   ]
  },
  {
   "cell_type": "code",
   "execution_count": 363,
   "id": "a9711226",
   "metadata": {},
   "outputs": [
    {
     "name": "stdout",
     "output_type": "stream",
     "text": [
      "Epoch 1/50\n",
      "471/471 [==============================] - 2415s 5s/step - loss: 0.0086 - mean_absolute_error: 0.0518 - val_loss: 0.0054 - val_mean_absolute_error: 0.0339\n",
      "Epoch 2/50\n",
      "471/471 [==============================] - 3354s 7s/step - loss: 0.0067 - mean_absolute_error: 0.0434 - val_loss: 0.0048 - val_mean_absolute_error: 0.0316\n",
      "Epoch 3/50\n",
      "471/471 [==============================] - 14175s 30s/step - loss: 0.0048 - mean_absolute_error: 0.0357 - val_loss: 0.0043 - val_mean_absolute_error: 0.0368\n",
      "Epoch 4/50\n",
      "471/471 [==============================] - 2987s 6s/step - loss: 0.0043 - mean_absolute_error: 0.0329 - val_loss: 0.0040 - val_mean_absolute_error: 0.0338\n",
      "Epoch 5/50\n",
      "471/471 [==============================] - 13998s 30s/step - loss: 0.0042 - mean_absolute_error: 0.0324 - val_loss: 0.0041 - val_mean_absolute_error: 0.0365\n",
      "Epoch 6/50\n",
      "471/471 [==============================] - 68880s 147s/step - loss: 0.0041 - mean_absolute_error: 0.0323 - val_loss: 0.0040 - val_mean_absolute_error: 0.0348\n",
      "Epoch 7/50\n",
      "471/471 [==============================] - 10897s 23s/step - loss: 0.0041 - mean_absolute_error: 0.0319 - val_loss: 0.0039 - val_mean_absolute_error: 0.0333\n",
      "Epoch 8/50\n",
      "471/471 [==============================] - 2940s 6s/step - loss: 0.0040 - mean_absolute_error: 0.0314 - val_loss: 0.0039 - val_mean_absolute_error: 0.0342\n",
      "Epoch 9/50\n",
      "471/471 [==============================] - 43654s 93s/step - loss: 0.0040 - mean_absolute_error: 0.0317 - val_loss: 0.0038 - val_mean_absolute_error: 0.0326\n",
      "Epoch 10/50\n",
      "471/471 [==============================] - 2662s 6s/step - loss: 0.0040 - mean_absolute_error: 0.0314 - val_loss: 0.0038 - val_mean_absolute_error: 0.0330\n",
      "Epoch 11/50\n",
      "471/471 [==============================] - 2640s 6s/step - loss: 0.0039 - mean_absolute_error: 0.0312 - val_loss: 0.0037 - val_mean_absolute_error: 0.0312\n",
      "Epoch 12/50\n",
      "471/471 [==============================] - 15510s 33s/step - loss: 0.0040 - mean_absolute_error: 0.0313 - val_loss: 0.0036 - val_mean_absolute_error: 0.0302\n",
      "Epoch 13/50\n",
      "471/471 [==============================] - 2712s 6s/step - loss: 0.0039 - mean_absolute_error: 0.0310 - val_loss: 0.0036 - val_mean_absolute_error: 0.0305\n",
      "Epoch 14/50\n",
      "471/471 [==============================] - 2730s 6s/step - loss: 0.0039 - mean_absolute_error: 0.0308 - val_loss: 0.0035 - val_mean_absolute_error: 0.0285\n",
      "Epoch 15/50\n",
      "471/471 [==============================] - 49575s 105s/step - loss: 0.0039 - mean_absolute_error: 0.0310 - val_loss: 0.0036 - val_mean_absolute_error: 0.0303\n",
      "Epoch 16/50\n",
      "471/471 [==============================] - 2188s 5s/step - loss: 0.0039 - mean_absolute_error: 0.0308 - val_loss: 0.0036 - val_mean_absolute_error: 0.0299\n"
     ]
    }
   ],
   "source": [
    "\n",
    "early_stopping=tf.keras.callbacks.EarlyStopping(monitor='val_loss',patience=2,mode='min')\n",
    "\n",
    "model.compile(loss=tf.losses.MeanSquaredError(), optimizer=tf.optimizers.Adam(), metrics=[tf.metrics.MeanAbsoluteError()])\n",
    "\n",
    "history = model.fit(train_generator, epochs=50, validation_data=test_generator, shuffle = False, callbacks=[early_stopping])"
   ]
  },
  {
   "cell_type": "code",
   "execution_count": 366,
   "id": "4c0eabd7",
   "metadata": {},
   "outputs": [
    {
     "name": "stderr",
     "output_type": "stream",
     "text": [
      "C:\\Users\\Shweta\\AppData\\Local\\Temp\\ipykernel_16132\\1625521884.py:1: UserWarning: `Model.evaluate_generator` is deprecated and will be removed in a future version. Please use `Model.evaluate`, which supports generators.\n",
      "  model.evaluate_generator(test_generator, verbose=0)\n"
     ]
    },
    {
     "data": {
      "text/plain": [
       "[0.0035712148528546095, 0.029947632923722267]"
      ]
     },
     "execution_count": 366,
     "metadata": {},
     "output_type": "execute_result"
    }
   ],
   "source": [
    "model.evaluate_generator(test_generator, verbose=0)"
   ]
  },
  {
   "cell_type": "code",
   "execution_count": 367,
   "id": "c9ff9089",
   "metadata": {},
   "outputs": [
    {
     "name": "stderr",
     "output_type": "stream",
     "text": [
      "C:\\Users\\Shweta\\AppData\\Local\\Temp\\ipykernel_16132\\2533966764.py:1: UserWarning: `Model.predict_generator` is deprecated and will be removed in a future version. Please use `Model.predict`, which supports generators.\n",
      "  predictions=model.predict_generator(test_generator)\n"
     ]
    }
   ],
   "source": [
    "predictions=model.predict_generator(test_generator)"
   ]
  },
  {
   "cell_type": "code",
   "execution_count": 368,
   "id": "ff7b7691",
   "metadata": {},
   "outputs": [
    {
     "data": {
      "text/plain": [
       "3227"
      ]
     },
     "execution_count": 368,
     "metadata": {},
     "output_type": "execute_result"
    }
   ],
   "source": [
    "predictions.shape[0]"
   ]
  },
  {
   "cell_type": "code",
   "execution_count": 369,
   "id": "fd9b058b",
   "metadata": {},
   "outputs": [
    {
     "data": {
      "text/plain": [
       "array([[0.06115487],\n",
       "       [0.10198077],\n",
       "       [0.12689869],\n",
       "       ...,\n",
       "       [0.04517734],\n",
       "       [0.23909798],\n",
       "       [0.21537215]], dtype=float32)"
      ]
     },
     "execution_count": 369,
     "metadata": {},
     "output_type": "execute_result"
    }
   ],
   "source": [
    "predictions"
   ]
  },
  {
   "cell_type": "code",
   "execution_count": 370,
   "id": "a33d9347",
   "metadata": {},
   "outputs": [
    {
     "data": {
      "text/plain": [
       "array([0.3364486 , 0.54205607, 0.28971963, ..., 0.24299065, 0.38317757,\n",
       "       0.39252336])"
      ]
     },
     "execution_count": 370,
     "metadata": {},
     "output_type": "execute_result"
    }
   ],
   "source": [
    "y_test\n"
   ]
  },
  {
   "cell_type": "code",
   "execution_count": 371,
   "id": "018c71ad",
   "metadata": {},
   "outputs": [
    {
     "data": {
      "text/plain": [
       "array([[0.3364486 , 0.48574446, 0.30923768, 0.22049915, 0.5595651 ],\n",
       "       [0.54205607, 0.48574446, 0.3055683 , 0.22534529, 0.55581592],\n",
       "       [0.28971963, 0.48574446, 0.30455921, 0.22994912, 0.55009842],\n",
       "       ...,\n",
       "       [0.24299065, 0.91974657, 0.53866618, 0.69265118, 0.62719762],\n",
       "       [0.38317757, 0.91974657, 0.54949087, 0.67705355, 0.63471741],\n",
       "       [0.39252336, 0.91974657, 0.53875791, 0.66617051, 0.63290173]])"
      ]
     },
     "execution_count": 371,
     "metadata": {},
     "output_type": "execute_result"
    }
   ],
   "source": [
    "x_test"
   ]
  },
  {
   "cell_type": "code",
   "execution_count": 372,
   "id": "9e67c6f3",
   "metadata": {},
   "outputs": [
    {
     "data": {
      "text/plain": [
       "array([[0.58078141, 0.20851298, 0.46280591, 0.32720967],\n",
       "       [0.58078141, 0.18282726, 0.5233826 , 0.30162152],\n",
       "       [0.58078141, 0.18466196, 0.57669009, 0.27162808],\n",
       "       ...,\n",
       "       [0.91974657, 0.53866618, 0.69265118, 0.62719762],\n",
       "       [0.91974657, 0.54949087, 0.67705355, 0.63471741],\n",
       "       [0.91974657, 0.53875791, 0.66617051, 0.63290173]])"
      ]
     },
     "execution_count": 372,
     "metadata": {},
     "output_type": "execute_result"
    }
   ],
   "source": [
    "x_test[:,1:][win_length:]"
   ]
  },
  {
   "cell_type": "code",
   "execution_count": 373,
   "id": "ba91c0fb",
   "metadata": {},
   "outputs": [],
   "source": [
    "df_pred=pd.concat([pd.DataFrame(predictions), pd.DataFrame(x_test[:,1:][win_length:])],axis=1)"
   ]
  },
  {
   "cell_type": "code",
   "execution_count": 374,
   "id": "0c089538",
   "metadata": {},
   "outputs": [
    {
     "data": {
      "text/html": [
       "<div>\n",
       "<style scoped>\n",
       "    .dataframe tbody tr th:only-of-type {\n",
       "        vertical-align: middle;\n",
       "    }\n",
       "\n",
       "    .dataframe tbody tr th {\n",
       "        vertical-align: top;\n",
       "    }\n",
       "\n",
       "    .dataframe thead th {\n",
       "        text-align: right;\n",
       "    }\n",
       "</style>\n",
       "<table border=\"1\" class=\"dataframe\">\n",
       "  <thead>\n",
       "    <tr style=\"text-align: right;\">\n",
       "      <th></th>\n",
       "      <th>0</th>\n",
       "      <th>0</th>\n",
       "      <th>1</th>\n",
       "      <th>2</th>\n",
       "      <th>3</th>\n",
       "    </tr>\n",
       "  </thead>\n",
       "  <tbody>\n",
       "    <tr>\n",
       "      <th>0</th>\n",
       "      <td>0.061155</td>\n",
       "      <td>0.580781</td>\n",
       "      <td>0.208513</td>\n",
       "      <td>0.462806</td>\n",
       "      <td>0.327210</td>\n",
       "    </tr>\n",
       "    <tr>\n",
       "      <th>1</th>\n",
       "      <td>0.101981</td>\n",
       "      <td>0.580781</td>\n",
       "      <td>0.182827</td>\n",
       "      <td>0.523383</td>\n",
       "      <td>0.301622</td>\n",
       "    </tr>\n",
       "    <tr>\n",
       "      <th>2</th>\n",
       "      <td>0.126899</td>\n",
       "      <td>0.580781</td>\n",
       "      <td>0.184662</td>\n",
       "      <td>0.576690</td>\n",
       "      <td>0.271628</td>\n",
       "    </tr>\n",
       "    <tr>\n",
       "      <th>3</th>\n",
       "      <td>0.369549</td>\n",
       "      <td>0.580781</td>\n",
       "      <td>0.193996</td>\n",
       "      <td>0.622486</td>\n",
       "      <td>0.234324</td>\n",
       "    </tr>\n",
       "    <tr>\n",
       "      <th>4</th>\n",
       "      <td>0.149066</td>\n",
       "      <td>0.580781</td>\n",
       "      <td>0.181818</td>\n",
       "      <td>0.646717</td>\n",
       "      <td>0.213516</td>\n",
       "    </tr>\n",
       "    <tr>\n",
       "      <th>...</th>\n",
       "      <td>...</td>\n",
       "      <td>...</td>\n",
       "      <td>...</td>\n",
       "      <td>...</td>\n",
       "      <td>...</td>\n",
       "    </tr>\n",
       "    <tr>\n",
       "      <th>3222</th>\n",
       "      <td>0.046837</td>\n",
       "      <td>0.926786</td>\n",
       "      <td>0.537657</td>\n",
       "      <td>0.711655</td>\n",
       "      <td>0.606309</td>\n",
       "    </tr>\n",
       "    <tr>\n",
       "      <th>3223</th>\n",
       "      <td>0.061028</td>\n",
       "      <td>0.919747</td>\n",
       "      <td>0.536006</td>\n",
       "      <td>0.701769</td>\n",
       "      <td>0.607836</td>\n",
       "    </tr>\n",
       "    <tr>\n",
       "      <th>3224</th>\n",
       "      <td>0.045177</td>\n",
       "      <td>0.919747</td>\n",
       "      <td>0.538666</td>\n",
       "      <td>0.692651</td>\n",
       "      <td>0.627198</td>\n",
       "    </tr>\n",
       "    <tr>\n",
       "      <th>3225</th>\n",
       "      <td>0.239098</td>\n",
       "      <td>0.919747</td>\n",
       "      <td>0.549491</td>\n",
       "      <td>0.677054</td>\n",
       "      <td>0.634717</td>\n",
       "    </tr>\n",
       "    <tr>\n",
       "      <th>3226</th>\n",
       "      <td>0.215372</td>\n",
       "      <td>0.919747</td>\n",
       "      <td>0.538758</td>\n",
       "      <td>0.666171</td>\n",
       "      <td>0.632902</td>\n",
       "    </tr>\n",
       "  </tbody>\n",
       "</table>\n",
       "<p>3227 rows × 5 columns</p>\n",
       "</div>"
      ],
      "text/plain": [
       "             0         0         1         2         3\n",
       "0     0.061155  0.580781  0.208513  0.462806  0.327210\n",
       "1     0.101981  0.580781  0.182827  0.523383  0.301622\n",
       "2     0.126899  0.580781  0.184662  0.576690  0.271628\n",
       "3     0.369549  0.580781  0.193996  0.622486  0.234324\n",
       "4     0.149066  0.580781  0.181818  0.646717  0.213516\n",
       "...        ...       ...       ...       ...       ...\n",
       "3222  0.046837  0.926786  0.537657  0.711655  0.606309\n",
       "3223  0.061028  0.919747  0.536006  0.701769  0.607836\n",
       "3224  0.045177  0.919747  0.538666  0.692651  0.627198\n",
       "3225  0.239098  0.919747  0.549491  0.677054  0.634717\n",
       "3226  0.215372  0.919747  0.538758  0.666171  0.632902\n",
       "\n",
       "[3227 rows x 5 columns]"
      ]
     },
     "execution_count": 374,
     "metadata": {},
     "output_type": "execute_result"
    }
   ],
   "source": [
    "df_pred"
   ]
  },
  {
   "cell_type": "code",
   "execution_count": 375,
   "id": "5fb2eb36",
   "metadata": {},
   "outputs": [],
   "source": [
    "rev_trans=scaler.inverse_transform(df_pred)\n",
    " "
   ]
  },
  {
   "cell_type": "code",
   "execution_count": 376,
   "id": "ee06fdbc",
   "metadata": {},
   "outputs": [
    {
     "data": {
      "text/plain": [
       "array([[ 75.43570925,  22.29      ,  34.6       ,  22.46666667,\n",
       "         32.1       ],\n",
       "       [119.11942191,  22.29      ,  33.66666667,  23.3       ,\n",
       "         31.19      ],\n",
       "       [145.78159943,  22.29      ,  33.73333333,  24.03333333,\n",
       "         30.12333333],\n",
       "       ...,\n",
       "       [ 58.33975833,  25.5       ,  46.59666667,  25.62857143,\n",
       "         42.76857143],\n",
       "       [265.83484143,  25.5       ,  46.99      ,  25.414     ,\n",
       "         43.036     ],\n",
       "       [240.44819534,  25.5       ,  46.6       ,  25.26428571,\n",
       "         42.97142857]])"
      ]
     },
     "execution_count": 376,
     "metadata": {},
     "output_type": "execute_result"
    }
   ],
   "source": [
    "rev_trans"
   ]
  },
  {
   "cell_type": "code",
   "execution_count": 382,
   "id": "ef7989b7",
   "metadata": {},
   "outputs": [],
   "source": [
    "df_final=df_input[predictions.shape[0]*-1:]"
   ]
  },
  {
   "cell_type": "code",
   "execution_count": 383,
   "id": "e08430c8",
   "metadata": {},
   "outputs": [
    {
     "data": {
      "text/plain": [
       "Appliances    3227\n",
       "T1            3227\n",
       "RH_1          3227\n",
       "T2            3227\n",
       "RH_2          3227\n",
       "dtype: int64"
      ]
     },
     "execution_count": 383,
     "metadata": {},
     "output_type": "execute_result"
    }
   ],
   "source": [
    "df_final.count()"
   ]
  },
  {
   "cell_type": "code",
   "execution_count": 384,
   "id": "411b5190",
   "metadata": {},
   "outputs": [
    {
     "name": "stderr",
     "output_type": "stream",
     "text": [
      "C:\\Users\\Shweta\\AppData\\Local\\Temp\\ipykernel_16132\\1644047649.py:1: SettingWithCopyWarning: \n",
      "A value is trying to be set on a copy of a slice from a DataFrame.\n",
      "Try using .loc[row_indexer,col_indexer] = value instead\n",
      "\n",
      "See the caveats in the documentation: https://pandas.pydata.org/pandas-docs/stable/user_guide/indexing.html#returning-a-view-versus-a-copy\n",
      "  df_final['Appliances_Pred']=rev_trans[:,0]\n"
     ]
    }
   ],
   "source": [
    "df_final['Appliances_Pred']=rev_trans[:,0]"
   ]
  },
  {
   "cell_type": "code",
   "execution_count": 385,
   "id": "ba5a1858",
   "metadata": {},
   "outputs": [
    {
     "data": {
      "text/html": [
       "<div>\n",
       "<style scoped>\n",
       "    .dataframe tbody tr th:only-of-type {\n",
       "        vertical-align: middle;\n",
       "    }\n",
       "\n",
       "    .dataframe tbody tr th {\n",
       "        vertical-align: top;\n",
       "    }\n",
       "\n",
       "    .dataframe thead th {\n",
       "        text-align: right;\n",
       "    }\n",
       "</style>\n",
       "<table border=\"1\" class=\"dataframe\">\n",
       "  <thead>\n",
       "    <tr style=\"text-align: right;\">\n",
       "      <th></th>\n",
       "      <th>Appliances</th>\n",
       "      <th>T1</th>\n",
       "      <th>RH_1</th>\n",
       "      <th>T2</th>\n",
       "      <th>RH_2</th>\n",
       "      <th>Appliances_Pred</th>\n",
       "    </tr>\n",
       "  </thead>\n",
       "  <tbody>\n",
       "    <tr>\n",
       "      <th>16508</th>\n",
       "      <td>90</td>\n",
       "      <td>22.290000</td>\n",
       "      <td>34.600000</td>\n",
       "      <td>22.466667</td>\n",
       "      <td>32.100000</td>\n",
       "      <td>75.435709</td>\n",
       "    </tr>\n",
       "    <tr>\n",
       "      <th>16509</th>\n",
       "      <td>120</td>\n",
       "      <td>22.290000</td>\n",
       "      <td>33.666667</td>\n",
       "      <td>23.300000</td>\n",
       "      <td>31.190000</td>\n",
       "      <td>119.119422</td>\n",
       "    </tr>\n",
       "    <tr>\n",
       "      <th>16510</th>\n",
       "      <td>390</td>\n",
       "      <td>22.290000</td>\n",
       "      <td>33.733333</td>\n",
       "      <td>24.033333</td>\n",
       "      <td>30.123333</td>\n",
       "      <td>145.781599</td>\n",
       "    </tr>\n",
       "    <tr>\n",
       "      <th>16511</th>\n",
       "      <td>240</td>\n",
       "      <td>22.290000</td>\n",
       "      <td>34.072500</td>\n",
       "      <td>24.663333</td>\n",
       "      <td>28.796667</td>\n",
       "      <td>405.417915</td>\n",
       "    </tr>\n",
       "    <tr>\n",
       "      <th>16512</th>\n",
       "      <td>120</td>\n",
       "      <td>22.290000</td>\n",
       "      <td>33.630000</td>\n",
       "      <td>24.996667</td>\n",
       "      <td>28.056667</td>\n",
       "      <td>169.500143</td>\n",
       "    </tr>\n",
       "    <tr>\n",
       "      <th>...</th>\n",
       "      <td>...</td>\n",
       "      <td>...</td>\n",
       "      <td>...</td>\n",
       "      <td>...</td>\n",
       "      <td>...</td>\n",
       "      <td>...</td>\n",
       "    </tr>\n",
       "    <tr>\n",
       "      <th>19730</th>\n",
       "      <td>100</td>\n",
       "      <td>25.566667</td>\n",
       "      <td>46.560000</td>\n",
       "      <td>25.890000</td>\n",
       "      <td>42.025714</td>\n",
       "      <td>60.115194</td>\n",
       "    </tr>\n",
       "    <tr>\n",
       "      <th>19731</th>\n",
       "      <td>90</td>\n",
       "      <td>25.500000</td>\n",
       "      <td>46.500000</td>\n",
       "      <td>25.754000</td>\n",
       "      <td>42.080000</td>\n",
       "      <td>75.300092</td>\n",
       "    </tr>\n",
       "    <tr>\n",
       "      <th>19732</th>\n",
       "      <td>270</td>\n",
       "      <td>25.500000</td>\n",
       "      <td>46.596667</td>\n",
       "      <td>25.628571</td>\n",
       "      <td>42.768571</td>\n",
       "      <td>58.339758</td>\n",
       "    </tr>\n",
       "    <tr>\n",
       "      <th>19733</th>\n",
       "      <td>420</td>\n",
       "      <td>25.500000</td>\n",
       "      <td>46.990000</td>\n",
       "      <td>25.414000</td>\n",
       "      <td>43.036000</td>\n",
       "      <td>265.834841</td>\n",
       "    </tr>\n",
       "    <tr>\n",
       "      <th>19734</th>\n",
       "      <td>430</td>\n",
       "      <td>25.500000</td>\n",
       "      <td>46.600000</td>\n",
       "      <td>25.264286</td>\n",
       "      <td>42.971429</td>\n",
       "      <td>240.448195</td>\n",
       "    </tr>\n",
       "  </tbody>\n",
       "</table>\n",
       "<p>3227 rows × 6 columns</p>\n",
       "</div>"
      ],
      "text/plain": [
       "       Appliances         T1       RH_1         T2       RH_2  Appliances_Pred\n",
       "16508          90  22.290000  34.600000  22.466667  32.100000        75.435709\n",
       "16509         120  22.290000  33.666667  23.300000  31.190000       119.119422\n",
       "16510         390  22.290000  33.733333  24.033333  30.123333       145.781599\n",
       "16511         240  22.290000  34.072500  24.663333  28.796667       405.417915\n",
       "16512         120  22.290000  33.630000  24.996667  28.056667       169.500143\n",
       "...           ...        ...        ...        ...        ...              ...\n",
       "19730         100  25.566667  46.560000  25.890000  42.025714        60.115194\n",
       "19731          90  25.500000  46.500000  25.754000  42.080000        75.300092\n",
       "19732         270  25.500000  46.596667  25.628571  42.768571        58.339758\n",
       "19733         420  25.500000  46.990000  25.414000  43.036000       265.834841\n",
       "19734         430  25.500000  46.600000  25.264286  42.971429       240.448195\n",
       "\n",
       "[3227 rows x 6 columns]"
      ]
     },
     "execution_count": 385,
     "metadata": {},
     "output_type": "execute_result"
    }
   ],
   "source": [
    "df_final"
   ]
  },
  {
   "cell_type": "code",
   "execution_count": 386,
   "id": "e490d14f",
   "metadata": {},
   "outputs": [
    {
     "data": {
      "text/plain": [
       "<AxesSubplot:>"
      ]
     },
     "execution_count": 386,
     "metadata": {},
     "output_type": "execute_result"
    },
    {
     "data": {
      "image/png": "[encoded data removed]",
      "text/plain": [
       "<Figure size 1440x1440 with 1 Axes>"
      ]
     },
     "metadata": {
      "needs_background": "light"
     },
     "output_type": "display_data"
    }
   ],
   "source": [
    "df_final[['Appliances','Appliances_Pred']].plot()"
   ]
  },
  {
   "cell_type": "code",
   "execution_count": null,
   "id": "d0045755",
   "metadata": {},
   "outputs": [],
   "source": []
  }
 ],
 "metadata": {
  "kernelspec": {
   "display_name": "Python 3 (ipykernel)",
   "language": "python",
   "name": "python3"
  },
  "language_info": {
   "codemirror_mode": {
    "name": "ipython",
    "version": 3
   },
   "file_extension": ".py",
   "mimetype": "text/x-python",
   "name": "python",
   "nbconvert_exporter": "python",
   "pygments_lexer": "ipython3",
   "version": "3.9.12"
  }
 },
 "nbformat": 4,
 "nbformat_minor": 5
}
